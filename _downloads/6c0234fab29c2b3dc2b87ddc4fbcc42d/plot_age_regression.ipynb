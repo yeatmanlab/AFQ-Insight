{
  "cells": [
    {
      "cell_type": "code",
      "execution_count": null,
      "metadata": {
        "collapsed": false
      },
      "outputs": [],
      "source": [
        "%matplotlib inline"
      ]
    },
    {
      "cell_type": "markdown",
      "metadata": {},
      "source": [
        "\n# Predict age from white matter features\n\nPredict subject age from white matter features. This example fetches the Weston-Havens\ndataset described in Yeatman et al [1]_. This dataset contains tractometry\nfeatures from 77 subjects ages 6-50. The plots display the absolute value of the\nmean regression coefficients (averaged across cross-validation splits) for the\nmean diffusivity (MD) features.\n\nPredictive performance for this example is quite poor. In a research setting,\none might have to ensemble a number of SGL estimators together and conduct a\nmore thorough search of the hyperparameter space.\nFor more details, please see [2]_.\n\n.. [1]  Jason D. Yeatman, Brian A. Wandell, & Aviv A. Mezer,\n    \"Lifespan maturation and degeneration of human brain white matter\"\n    Nature Communications, vol. 5:1, pp. 4932, 2014\n    DOI: 10.1038/ncomms5932\n\n.. [2]  Adam Richie-Halford, Jason Yeatman, Noah Simon, and Ariel Rokem\n   \"Multidimensional analysis and detection of informative features in human brain white matter\"\n   PLOS Computational Biology, 2021\n   DOI: 10.1371/journal.pcbi.1009136\n\n\n"
      ]
    },
    {
      "cell_type": "code",
      "execution_count": null,
      "metadata": {
        "collapsed": false
      },
      "outputs": [],
      "source": [
        "import matplotlib.pyplot as plt\nimport numpy as np\n\nfrom afqinsight.datasets import fetch_weston_havens\nfrom afqinsight import make_afq_regressor_pipeline\n\nfrom sklearn.model_selection import cross_validate\n\nX, y, groups, feature_names, group_names, subjects = fetch_weston_havens()\n\npipe = make_afq_regressor_pipeline(\n    imputer_kwargs={\"strategy\": \"median\"},  # Use median imputation\n    use_cv_estimator=True,  # Automatically determine the best hyperparameters\n    scaler=\"standard\",  # Standard scale the features before regression\n    groups=groups,\n    verbose=0,  # Be quiet!\n    pipeline_verbosity=False,  # No really, be quiet!\n    tuning_strategy=\"bayes\",  # Use BayesSearchCV to determine the optimal hyperparameters\n    n_bayes_iter=10,  # Consider only this many points in hyperparameter space\n    cv=3,  # Use three CV splits to evaluate each hyperparameter combination\n    l1_ratio=[0.0, 1.0],  # Explore the entire range of ``l1_ratio``\n    eps=5e-2,  # This is the ratio of the smallest to largest ``alpha`` value\n    tol=1e-2,  # Set a lenient convergence tolerance just for this example\n)\n\n# ``pipe`` is a scikit-learn pipeline and can be used in other scikit-learn functions\nscores = cross_validate(\n    pipe, X, y, cv=5, return_train_score=True, return_estimator=True\n)\n\nprint(f\"Mean train score: {np.mean(scores['train_score']):5.3f}\")\nprint(f\"Mean test score:  {np.mean(scores['test_score']):5.3f}\")\nprint(f\"Mean fit time:    {np.mean(scores['fit_time']):5.2f}s\")\nprint(f\"Mean score time:  {np.mean(scores['score_time']):5.2f}s\")\n\nmean_coefs = np.mean(\n    np.abs([est.named_steps[\"estimate\"].coef_ for est in scores[\"estimator\"]]), axis=0\n)\n\nfig, ax = plt.subplots(1, 1, figsize=(8, 8))\n_ = ax.plot(mean_coefs[1800:], color=\"black\", lw=2)\n_ = ax.set_xlim(0, 1800)\n\ncolors = plt.get_cmap(\"tab20\").colors\nfor grp, grp_name, color in zip(groups[:18], group_names[18:], colors):\n    _ = ax.axvspan(grp.min(), grp.max() + 1, color=color, alpha=0.8, label=grp_name[1])\n\nbox = ax.get_position()\nax.set_position([box.x0, box.y0 + box.height * 0.375, box.width, box.height * 0.625])\n\n_ = ax.legend(loc=\"upper center\", bbox_to_anchor=(0.5, -0.125), ncol=3)\n_ = ax.set_ylabel(r\"$\\hat{\\beta}$\", fontsize=16)\n_ = ax.set_xlabel(\"Group principal component\", fontsize=16)\n_ = ax.set_title(\"Group Principal Regression Coefficients (MD only)\", fontsize=18)"
      ]
    }
  ],
  "metadata": {
    "kernelspec": {
      "display_name": "Python 3",
      "language": "python",
      "name": "python3"
    },
    "language_info": {
      "codemirror_mode": {
        "name": "ipython",
        "version": 3
      },
      "file_extension": ".py",
      "mimetype": "text/x-python",
      "name": "python",
      "nbconvert_exporter": "python",
      "pygments_lexer": "ipython3",
      "version": "3.6.13"
    }
  },
  "nbformat": 4,
  "nbformat_minor": 0
}