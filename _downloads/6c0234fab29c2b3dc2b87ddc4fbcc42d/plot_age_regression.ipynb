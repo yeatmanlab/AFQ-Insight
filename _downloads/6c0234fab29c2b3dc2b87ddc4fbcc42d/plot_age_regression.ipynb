{
  "cells": [
    {
      "cell_type": "code",
      "execution_count": null,
      "metadata": {
        "collapsed": false
      },
      "outputs": [],
      "source": [
        "%matplotlib inline"
      ]
    },
    {
      "cell_type": "markdown",
      "metadata": {},
      "source": [
        "\n# Predict age from white matter features\n\nPredict subject age from white matter features. This example fetches the\nWeston-Havens dataset described in Yeatman et al [1]_. This dataset contains\ntractometry features from 77 subjects ages 6-50. The plots display the absolute\nvalue of the mean regression coefficients (averaged across cross-validation\nsplits) for the mean diffusivity (MD) features.\n\nPredictive performance for this example is quite poor. In a research setting,\none might have to ensemble a number of SGL estimators together and conduct a\nmore thorough search of the hyperparameter space. For more details, please see\n[2]_.\n\n.. [1]  Jason D. Yeatman, Brian A. Wandell, & Aviv A. Mezer, \"Lifespan\n    maturation and degeneration of human brain white matter\" Nature\n    Communications, vol. 5:1, pp. 4932, 2014 DOI: 10.1038/ncomms5932\n\n.. [2]  Adam Richie-Halford, Jason Yeatman, Noah Simon, and Ariel Rokem\n   \"Multidimensional analysis and detection of informative features in human\n   brain white matter\" PLOS Computational Biology, 2021 DOI:\n   10.1371/journal.pcbi.1009136\n"
      ]
    },
    {
      "cell_type": "code",
      "execution_count": null,
      "metadata": {
        "collapsed": false
      },
      "outputs": [],
      "source": [
        "import matplotlib.pyplot as plt\nimport numpy as np\nimport os.path as op\n\nfrom afqinsight.datasets import download_weston_havens, load_afq_data\nfrom afqinsight import make_afq_regressor_pipeline\n\nfrom sklearn.model_selection import cross_validate"
      ]
    },
    {
      "cell_type": "markdown",
      "metadata": {},
      "source": [
        "## Fetch example data\n\nThe :func:`download_weston_havens` function download the data used in this\nexample and places it in the `~/.cache/afq-insight/weston_havens` directory.\nIf the directory does not exist, it is created. The data follows the format\nexpected by the :func:`load_afq_data` function: a file called `nodes.csv` that\ncontains AFQ tract profiles and a file called `subjects.csv` that contains\ninformation about the subjects. The two files are linked through the\n`subjectID` column that should exist in both of them. For more information\nabout this format, see also the `AFQ-Browser documentation\n<https://yeatmanlab.github.io/AFQ-Browser/dataformat.html>`_ (items 2 and 3).\n\n"
      ]
    },
    {
      "cell_type": "code",
      "execution_count": null,
      "metadata": {
        "collapsed": false
      },
      "outputs": [],
      "source": [
        "workdir = download_weston_havens()"
      ]
    },
    {
      "cell_type": "markdown",
      "metadata": {},
      "source": [
        "## Read in the data\nNext, we read in the data. The :func:`load_afq_data` function expects a string\ninput that points to a directory that holds appropriately-shaped data and\nreturns variables that we will use below in our analysis of the data.\n\n"
      ]
    },
    {
      "cell_type": "code",
      "execution_count": null,
      "metadata": {
        "collapsed": false
      },
      "outputs": [],
      "source": [
        "afqdata = load_afq_data(\n    fn_nodes=op.join(workdir, \"nodes.csv\"),\n    fn_subjects=op.join(workdir, \"subjects.csv\"),\n    dwi_metrics=[\"md\", \"fa\"],\n    target_cols=[\"Age\"],\n)\n\n# afqdata is a namedtuple. You can access it's fields using dot notation or by\n# unpacking the tuple. To see all of the available fields use `afqdata._fields`\nX = afqdata.X\ny = afqdata.y\ngroups = afqdata.groups\nfeature_names = afqdata.feature_names\ngroup_names = afqdata.group_names\nsubjects = afqdata.subjects"
      ]
    },
    {
      "cell_type": "markdown",
      "metadata": {},
      "source": [
        "## Create an analysis pipeline\n\n\n"
      ]
    },
    {
      "cell_type": "code",
      "execution_count": null,
      "metadata": {
        "collapsed": false
      },
      "outputs": [],
      "source": [
        "pipe = make_afq_regressor_pipeline(\n    imputer_kwargs={\"strategy\": \"median\"},  # Use median imputation\n    use_cv_estimator=True,  # Automatically determine the best hyperparameters\n    scaler=\"standard\",  # Standard scale the features before regression\n    groups=groups,\n    verbose=0,  # Be quiet!\n    pipeline_verbosity=False,  # No really, be quiet!\n    tuning_strategy=\"bayes\",  # Use BayesSearchCV to determine the optimal hyperparameters\n    n_bayes_iter=10,  # Consider only this many points in hyperparameter space\n    cv=3,  # Use three CV splits to evaluate each hyperparameter combination\n    l1_ratio=[0.0, 1.0],  # Explore the entire range of ``l1_ratio``\n    eps=5e-2,  # This is the ratio of the smallest to largest ``alpha`` value\n    tol=1e-2,  # Set a lenient convergence tolerance just for this example\n)\n\n# ``pipe`` is a scikit-learn pipeline and can be used in other scikit-learn\n# functions. For example, here we are doing 5-fold cross-validation using scikit\n# learn's :func:`cross_validate` function.\n\nscores = cross_validate(\n    pipe, X, y, cv=5, return_train_score=True, return_estimator=True\n)\n\nprint(f\"Mean train score: {np.mean(scores['train_score']):5.3f}\")\nprint(f\"Mean test score:  {np.mean(scores['test_score']):5.3f}\")\nprint(f\"Mean fit time:    {np.mean(scores['fit_time']):5.2f}s\")\nprint(f\"Mean score time:  {np.mean(scores['score_time']):5.2f}s\")\n\nmean_coefs = np.mean(\n    np.abs([est.named_steps[\"estimate\"].coef_ for est in scores[\"estimator\"]]), axis=0\n)\n\nfig, ax = plt.subplots(1, 1, figsize=(8, 8))\n_ = ax.plot(mean_coefs[1800:], color=\"black\", lw=2)\n_ = ax.set_xlim(0, 1800)\n\ncolors = plt.get_cmap(\"tab20\").colors\nfor grp, grp_name, color in zip(groups[:18], group_names[18:], colors):\n    _ = ax.axvspan(grp.min(), grp.max() + 1, color=color, alpha=0.8, label=grp_name[1])\n\nbox = ax.get_position()\nax.set_position([box.x0, box.y0 + box.height * 0.375, box.width, box.height * 0.625])\n\n_ = ax.legend(loc=\"upper center\", bbox_to_anchor=(0.5, -0.125), ncol=3)\n_ = ax.set_ylabel(r\"$\\hat{\\beta}$\", fontsize=16)\n_ = ax.set_xlabel(\"Group principal component\", fontsize=16)\n_ = ax.set_title(\"Group Principal Regression Coefficients (MD only)\", fontsize=18)"
      ]
    }
  ],
  "metadata": {
    "kernelspec": {
      "display_name": "Python 3",
      "language": "python",
      "name": "python3"
    },
    "language_info": {
      "codemirror_mode": {
        "name": "ipython",
        "version": 3
      },
      "file_extension": ".py",
      "mimetype": "text/x-python",
      "name": "python",
      "nbconvert_exporter": "python",
      "pygments_lexer": "ipython3",
      "version": "3.8.12"
    }
  },
  "nbformat": 4,
  "nbformat_minor": 0
}